{
 "cells": [
  {
   "cell_type": "markdown",
   "metadata": {},
   "source": [
    "# Import libraries"
   ]
  },
  {
   "cell_type": "code",
   "execution_count": 35,
   "metadata": {},
   "outputs": [],
   "source": [
    "from semseg_functions import load_imgs_labels,train_model,make_predictions\n",
    "from matplotlib import pyplot as plt\n",
    "import numpy as np\n",
    "from scipy.stats import spearmanr"
   ]
  },
  {
   "cell_type": "markdown",
   "metadata": {},
   "source": [
    "# Load Data"
   ]
  },
  {
   "cell_type": "code",
   "execution_count": 18,
   "metadata": {},
   "outputs": [],
   "source": [
    "X_train,Y_train,X_val,Y_val=load_imgs_labels()"
   ]
  },
  {
   "cell_type": "markdown",
   "metadata": {},
   "source": [
    "# Train model"
   ]
  },
  {
   "cell_type": "code",
   "execution_count": 3,
   "metadata": {},
   "outputs": [
    {
     "name": "stdout",
     "output_type": "stream",
     "text": [
      "Training: Epoch 1, Batch 0, Loss: 1.324\n",
      "Training: Epoch 1, Batch 1, Loss: 1.05\n",
      "Training: Epoch 1, Batch 2, Loss: 0.888\n",
      "Training: Epoch 1, Batch 3, Loss: 0.687\n",
      "Training: Epoch 1, Batch 4, Loss: 0.628\n",
      "Training: Epoch 1, Batch 5, Loss: 0.605\n",
      "Training: Epoch 1, Batch 6, Loss: 0.527\n",
      "Training: Epoch 1, Batch 7, Loss: 0.454\n",
      "Training: Epoch 1, Batch 8, Loss: 0.484\n",
      "Training: Epoch 1, Batch 9, Loss: 0.659\n",
      "Training: Epoch 1, Batch 10, Loss: 0.467\n",
      "Training: Epoch 1, Batch 11, Loss: 0.455\n",
      "Training: Epoch 1, Batch 12, Loss: 0.464\n",
      "Val: Epoch 1, Loss: 38.836\n",
      "Training: Epoch 2, Batch 0, Loss: 0.422\n",
      "Training: Epoch 2, Batch 1, Loss: 0.406\n",
      "Training: Epoch 2, Batch 2, Loss: 0.384\n",
      "Training: Epoch 2, Batch 3, Loss: 0.319\n",
      "Training: Epoch 2, Batch 4, Loss: 0.408\n",
      "Training: Epoch 2, Batch 5, Loss: 0.385\n",
      "Training: Epoch 2, Batch 6, Loss: 0.455\n",
      "Training: Epoch 2, Batch 7, Loss: 0.43\n",
      "Training: Epoch 2, Batch 8, Loss: 0.388\n",
      "Training: Epoch 2, Batch 9, Loss: 0.416\n",
      "Training: Epoch 2, Batch 10, Loss: 0.429\n",
      "Training: Epoch 2, Batch 11, Loss: 0.35\n",
      "Training: Epoch 2, Batch 12, Loss: 0.295\n",
      "Val: Epoch 2, Loss: 0.473\n",
      "Training: Epoch 3, Batch 0, Loss: 0.404\n",
      "Training: Epoch 3, Batch 1, Loss: 0.352\n",
      "Training: Epoch 3, Batch 2, Loss: 0.3\n",
      "Training: Epoch 3, Batch 3, Loss: 0.322\n",
      "Training: Epoch 3, Batch 4, Loss: 0.243\n",
      "Training: Epoch 3, Batch 5, Loss: 0.461\n",
      "Training: Epoch 3, Batch 6, Loss: 0.324\n",
      "Training: Epoch 3, Batch 7, Loss: 0.305\n",
      "Training: Epoch 3, Batch 8, Loss: 0.317\n",
      "Training: Epoch 3, Batch 9, Loss: 0.315\n",
      "Training: Epoch 3, Batch 10, Loss: 0.379\n",
      "Training: Epoch 3, Batch 11, Loss: 0.356\n",
      "Training: Epoch 3, Batch 12, Loss: 0.252\n",
      "Val: Epoch 3, Loss: 1.118\n",
      "Training: Epoch 4, Batch 0, Loss: 0.256\n",
      "Training: Epoch 4, Batch 1, Loss: 0.282\n",
      "Training: Epoch 4, Batch 2, Loss: 0.28\n",
      "Training: Epoch 4, Batch 3, Loss: 0.322\n",
      "Training: Epoch 4, Batch 4, Loss: 0.226\n",
      "Training: Epoch 4, Batch 5, Loss: 0.289\n",
      "Training: Epoch 4, Batch 6, Loss: 0.3\n",
      "Training: Epoch 4, Batch 7, Loss: 0.517\n",
      "Training: Epoch 4, Batch 8, Loss: 0.269\n",
      "Training: Epoch 4, Batch 9, Loss: 0.32\n",
      "Training: Epoch 4, Batch 10, Loss: 0.289\n",
      "Training: Epoch 4, Batch 11, Loss: 0.441\n",
      "Training: Epoch 4, Batch 12, Loss: 0.314\n",
      "Val: Epoch 4, Loss: 0.313\n",
      "Training: Epoch 5, Batch 0, Loss: 0.307\n",
      "Training: Epoch 5, Batch 1, Loss: 0.303\n",
      "Training: Epoch 5, Batch 2, Loss: 0.321\n",
      "Training: Epoch 5, Batch 3, Loss: 0.252\n",
      "Training: Epoch 5, Batch 4, Loss: 0.282\n",
      "Training: Epoch 5, Batch 5, Loss: 0.318\n",
      "Training: Epoch 5, Batch 6, Loss: 0.277\n",
      "Training: Epoch 5, Batch 7, Loss: 0.382\n",
      "Training: Epoch 5, Batch 8, Loss: 0.282\n",
      "Training: Epoch 5, Batch 9, Loss: 0.32\n",
      "Training: Epoch 5, Batch 10, Loss: 0.422\n",
      "Training: Epoch 5, Batch 11, Loss: 0.263\n",
      "Training: Epoch 5, Batch 12, Loss: 0.381\n",
      "Val: Epoch 5, Loss: 0.41\n",
      "Training: Epoch 6, Batch 0, Loss: 0.244\n",
      "Training: Epoch 6, Batch 1, Loss: 0.337\n",
      "Training: Epoch 6, Batch 2, Loss: 0.312\n",
      "Training: Epoch 6, Batch 3, Loss: 0.235\n",
      "Training: Epoch 6, Batch 4, Loss: 0.246\n",
      "Training: Epoch 6, Batch 5, Loss: 0.308\n",
      "Training: Epoch 6, Batch 6, Loss: 0.353\n",
      "Training: Epoch 6, Batch 7, Loss: 0.353\n",
      "Training: Epoch 6, Batch 8, Loss: 0.331\n",
      "Training: Epoch 6, Batch 9, Loss: 0.267\n",
      "Training: Epoch 6, Batch 10, Loss: 0.263\n",
      "Training: Epoch 6, Batch 11, Loss: 0.302\n",
      "Training: Epoch 6, Batch 12, Loss: 0.317\n",
      "Val: Epoch 6, Loss: 0.334\n",
      "Training: Epoch 7, Batch 0, Loss: 0.284\n",
      "Training: Epoch 7, Batch 1, Loss: 0.296\n",
      "Training: Epoch 7, Batch 2, Loss: 0.415\n",
      "Training: Epoch 7, Batch 3, Loss: 0.273\n",
      "Training: Epoch 7, Batch 4, Loss: 0.222\n",
      "Training: Epoch 7, Batch 5, Loss: 0.287\n",
      "Training: Epoch 7, Batch 6, Loss: 0.258\n",
      "Training: Epoch 7, Batch 7, Loss: 0.24\n",
      "Training: Epoch 7, Batch 8, Loss: 0.233\n",
      "Training: Epoch 7, Batch 9, Loss: 0.247\n",
      "Training: Epoch 7, Batch 10, Loss: 0.434\n",
      "Training: Epoch 7, Batch 11, Loss: 0.355\n",
      "Training: Epoch 7, Batch 12, Loss: 0.252\n",
      "Val: Epoch 7, Loss: 0.551\n",
      "Training: Epoch 8, Batch 0, Loss: 0.269\n",
      "Training: Epoch 8, Batch 1, Loss: 0.265\n",
      "Training: Epoch 8, Batch 2, Loss: 0.297\n",
      "Training: Epoch 8, Batch 3, Loss: 0.217\n",
      "Training: Epoch 8, Batch 4, Loss: 0.402\n",
      "Training: Epoch 8, Batch 5, Loss: 0.246\n",
      "Training: Epoch 8, Batch 6, Loss: 0.3\n",
      "Training: Epoch 8, Batch 7, Loss: 0.252\n",
      "Training: Epoch 8, Batch 8, Loss: 0.238\n",
      "Training: Epoch 8, Batch 9, Loss: 0.194\n",
      "Training: Epoch 8, Batch 10, Loss: 0.399\n",
      "Training: Epoch 8, Batch 11, Loss: 0.42\n",
      "Training: Epoch 8, Batch 12, Loss: 0.41\n",
      "Val: Epoch 8, Loss: 0.328\n",
      "Training: Epoch 9, Batch 0, Loss: 0.336\n",
      "Training: Epoch 9, Batch 1, Loss: 0.253\n",
      "Training: Epoch 9, Batch 2, Loss: 0.368\n",
      "Training: Epoch 9, Batch 3, Loss: 0.341\n",
      "Training: Epoch 9, Batch 4, Loss: 0.235\n",
      "Training: Epoch 9, Batch 5, Loss: 0.338\n",
      "Training: Epoch 9, Batch 6, Loss: 0.264\n",
      "Training: Epoch 9, Batch 7, Loss: 0.337\n",
      "Training: Epoch 9, Batch 8, Loss: 0.232\n",
      "Training: Epoch 9, Batch 9, Loss: 0.32\n",
      "Training: Epoch 9, Batch 10, Loss: 0.249\n",
      "Training: Epoch 9, Batch 11, Loss: 0.235\n",
      "Training: Epoch 9, Batch 12, Loss: 0.27\n",
      "Val: Epoch 9, Loss: 0.311\n",
      "Training: Epoch 10, Batch 0, Loss: 0.367\n",
      "Training: Epoch 10, Batch 1, Loss: 0.233\n",
      "Training: Epoch 10, Batch 2, Loss: 0.243\n",
      "Training: Epoch 10, Batch 3, Loss: 0.456\n",
      "Training: Epoch 10, Batch 4, Loss: 0.223\n",
      "Training: Epoch 10, Batch 5, Loss: 0.241\n",
      "Training: Epoch 10, Batch 6, Loss: 0.312\n",
      "Training: Epoch 10, Batch 7, Loss: 0.292\n",
      "Training: Epoch 10, Batch 8, Loss: 0.282\n",
      "Training: Epoch 10, Batch 9, Loss: 0.252\n",
      "Training: Epoch 10, Batch 10, Loss: 0.219\n",
      "Training: Epoch 10, Batch 11, Loss: 0.22\n",
      "Training: Epoch 10, Batch 12, Loss: 0.418\n",
      "Val: Epoch 10, Loss: 0.286\n"
     ]
    }
   ],
   "source": [
    "model=train_model(X_train,Y_train,X_val,Y_val)"
   ]
  },
  {
   "cell_type": "markdown",
   "metadata": {},
   "source": [
    "# Predict on held out text"
   ]
  },
  {
   "cell_type": "code",
   "execution_count": 19,
   "metadata": {},
   "outputs": [],
   "source": [
    "y_val_pred=make_predictions(X_val,model=None)"
   ]
  },
  {
   "cell_type": "code",
   "execution_count": 20,
   "metadata": {},
   "outputs": [],
   "source": [
    "y_val_pred_lbls=y_val_pred.argmax(1)"
   ]
  },
  {
   "cell_type": "markdown",
   "metadata": {},
   "source": [
    "# Report segmentation model performance"
   ]
  },
  {
   "cell_type": "code",
   "execution_count": 12,
   "metadata": {},
   "outputs": [],
   "source": [
    "from sklearn.metrics import classification_report"
   ]
  },
  {
   "cell_type": "code",
   "execution_count": 14,
   "metadata": {},
   "outputs": [
    {
     "name": "stdout",
     "output_type": "stream",
     "text": [
      "              precision    recall  f1-score   support\n",
      "\n",
      "           0       0.93      0.99      0.96   2366073\n",
      "           1       0.96      0.73      0.83   3000674\n",
      "           2       0.64      0.95      0.77   1186853\n",
      "\n",
      "    accuracy                           0.86   6553600\n",
      "   macro avg       0.84      0.89      0.85   6553600\n",
      "weighted avg       0.89      0.86      0.86   6553600\n",
      "\n"
     ]
    }
   ],
   "source": [
    "print(classification_report(Y_val.numpy().flatten(),y_val_pred_lbls.flatten()))"
   ]
  },
  {
   "cell_type": "markdown",
   "metadata": {},
   "source": [
    "# Compre true and predicted NC ratios"
   ]
  },
  {
   "cell_type": "code",
   "execution_count": 25,
   "metadata": {},
   "outputs": [],
   "source": [
    "nucleus_pred=(y_val_pred_lbls.reshape(y_val_pred_lbls.shape[0],-1)==1).sum(axis=1)\n",
    "cytoplasm_pred=(y_val_pred_lbls.reshape(y_val_pred_lbls.shape[0],-1)==2).sum(axis=1)\n",
    "nc_ratio_pred=nucleus_pred/(nucleus_pred+cytoplasm_pred)"
   ]
  },
  {
   "cell_type": "code",
   "execution_count": 26,
   "metadata": {},
   "outputs": [],
   "source": [
    "nucleus_true=(Y_val.reshape(Y_val.shape[0],-1)==1).sum(axis=1)\n",
    "cytoplasm_true=(Y_val.reshape(Y_val.shape[0],-1)==2).sum(axis=1)\n",
    "nc_ratio_true=nucleus_true/(nucleus_true+cytoplasm_true)"
   ]
  },
  {
   "cell_type": "code",
   "execution_count": 30,
   "metadata": {},
   "outputs": [
    {
     "data": {
      "image/png": "[encoded data removed]",
      "text/plain": [
       "<Figure size 432x288 with 1 Axes>"
      ]
     },
     "metadata": {
      "needs_background": "light"
     },
     "output_type": "display_data"
    }
   ],
   "source": [
    "import matplotlib.pyplot as plt\n",
    "import seaborn as sns\n",
    "plt.scatter(nc_ratio_pred,nc_ratio_true)\n",
    "plt.plot([0,1],[0,1],ls=\"--\")\n",
    "plt.xlabel(\"Predicted NC\")\n",
    "plt.ylabel(\"True NC\")\n",
    "sns.despine()"
   ]
  },
  {
   "cell_type": "code",
   "execution_count": 23,
   "metadata": {},
   "outputs": [
    {
     "data": {
      "text/plain": [
       "(-0.5, 255.5, 255.5, -0.5)"
      ]
     },
     "execution_count": 23,
     "metadata": {},
     "output_type": "execute_result"
    },
    {
     "data": {
      "image/png": "[encoded data removed]",
      "text/plain": [
       "<Figure size 432x288 with 3 Axes>"
      ]
     },
     "metadata": {
      "needs_background": "light"
     },
     "output_type": "display_data"
    }
   ],
   "source": [
    "idx=6\n",
    "plt.subplot(131)\n",
    "plt.imshow(Y_val[idx])\n",
    "plt.axis(\"off\")\n",
    "plt.subplot(132)\n",
    "plt.imshow((X_val[idx]*255).permute((1,2,0)).numpy().astype(int))\n",
    "plt.axis(\"off\")\n",
    "plt.subplot(133)\n",
    "plt.imshow(y_val_pred_lbls[idx])\n",
    "plt.axis(\"off\")"
   ]
  },
  {
   "cell_type": "code",
   "execution_count": 33,
   "metadata": {},
   "outputs": [
    {
     "data": {
      "text/plain": [
       "SpearmanrResult(correlation=0.7792938120009845, pvalue=1.317647913103015e-21)"
      ]
     },
     "execution_count": 33,
     "metadata": {},
     "output_type": "execute_result"
    }
   ],
   "source": [
    "# correlation - true vs predicted\n",
    "spearmanr(nc_ratio_pred,nc_ratio_true)"
   ]
  },
  {
   "cell_type": "code",
   "execution_count": 38,
   "metadata": {},
   "outputs": [
    {
     "data": {
      "text/plain": [
       "0.1538270477828651"
      ]
     },
     "execution_count": 38,
     "metadata": {},
     "output_type": "execute_result"
    }
   ],
   "source": [
    "# error - true vs predicted\n",
    "np.abs(nc_ratio_pred-nc_ratio_true.numpy()).mean()"
   ]
  }
 ],
 "metadata": {
  "kernelspec": {
   "display_name": "py37",
   "language": "python",
   "name": "py37"
  },
  "language_info": {
   "codemirror_mode": {
    "name": "ipython",
    "version": 3
   },
   "file_extension": ".py",
   "mimetype": "text/x-python",
   "name": "python",
   "nbconvert_exporter": "python",
   "pygments_lexer": "ipython3",
   "version": "3.7.9"
  }
 },
 "nbformat": 4,
 "nbformat_minor": 4
}
